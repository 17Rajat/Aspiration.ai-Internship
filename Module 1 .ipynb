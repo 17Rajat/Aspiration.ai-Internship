{
 "cells": [
  {
   "cell_type": "markdown",
   "metadata": {},
   "source": [
    "## Problem Statement 1.1\n",
    "**Import the csv file of the stock of your choosing using 'pd.read_csv()' function into a dataframe. Shares of a company can be offered in more than one category. The category of a stock is indicated in the ‘Series’ column. If the csv file has data on more than one category, the ‘Date’ column will have repeating values. To avoid repetitions in the date, remove all the rows where 'Series' column is NOT 'EQ'. Analyze and understand each column properly. You'd find the head(), tail() and describe() functions to be immensely useful for exploration. You're free to carry out any other exploration of your own.**"
   ]
  },
  {
   "cell_type": "code",
   "execution_count": 1,
   "metadata": {},
   "outputs": [],
   "source": [
    "import pandas as pd\n",
    "import numpy as np"
   ]
  },
  {
   "cell_type": "code",
   "execution_count": 2,
   "metadata": {},
   "outputs": [],
   "source": [
    "df = pd.read_csv('INFY.csv')"
   ]
  },
  {
   "cell_type": "code",
   "execution_count": 3,
   "metadata": {},
   "outputs": [
    {
     "data": {
      "text/html": [
       "<div>\n",
       "<style scoped>\n",
       "    .dataframe tbody tr th:only-of-type {\n",
       "        vertical-align: middle;\n",
       "    }\n",
       "\n",
       "    .dataframe tbody tr th {\n",
       "        vertical-align: top;\n",
       "    }\n",
       "\n",
       "    .dataframe thead th {\n",
       "        text-align: right;\n",
       "    }\n",
       "</style>\n",
       "<table border=\"1\" class=\"dataframe\">\n",
       "  <thead>\n",
       "    <tr style=\"text-align: right;\">\n",
       "      <th></th>\n",
       "      <th>Symbol</th>\n",
       "      <th>Series</th>\n",
       "      <th>Date</th>\n",
       "      <th>Prev Close</th>\n",
       "      <th>Open Price</th>\n",
       "      <th>High Price</th>\n",
       "      <th>Low Price</th>\n",
       "      <th>Last Price</th>\n",
       "      <th>Close Price</th>\n",
       "      <th>Average Price</th>\n",
       "      <th>Total Traded Quantity</th>\n",
       "      <th>Turnover</th>\n",
       "      <th>No. of Trades</th>\n",
       "      <th>Deliverable Qty</th>\n",
       "      <th>% Dly Qt to Traded Qty</th>\n",
       "    </tr>\n",
       "  </thead>\n",
       "  <tbody>\n",
       "    <tr>\n",
       "      <th>0</th>\n",
       "      <td>INFY</td>\n",
       "      <td>EQ</td>\n",
       "      <td>15-May-2017</td>\n",
       "      <td>964.25</td>\n",
       "      <td>963.50</td>\n",
       "      <td>963.50</td>\n",
       "      <td>949.10</td>\n",
       "      <td>953.25</td>\n",
       "      <td>951.55</td>\n",
       "      <td>951.49</td>\n",
       "      <td>3648582</td>\n",
       "      <td>3.471580e+09</td>\n",
       "      <td>75335</td>\n",
       "      <td>3052819</td>\n",
       "      <td>83.67</td>\n",
       "    </tr>\n",
       "    <tr>\n",
       "      <th>1</th>\n",
       "      <td>INFY</td>\n",
       "      <td>EQ</td>\n",
       "      <td>16-May-2017</td>\n",
       "      <td>951.55</td>\n",
       "      <td>953.10</td>\n",
       "      <td>960.15</td>\n",
       "      <td>946.95</td>\n",
       "      <td>956.00</td>\n",
       "      <td>955.00</td>\n",
       "      <td>952.92</td>\n",
       "      <td>3065084</td>\n",
       "      <td>2.920775e+09</td>\n",
       "      <td>71808</td>\n",
       "      <td>1858063</td>\n",
       "      <td>60.62</td>\n",
       "    </tr>\n",
       "    <tr>\n",
       "      <th>2</th>\n",
       "      <td>INFY</td>\n",
       "      <td>EQ</td>\n",
       "      <td>17-May-2017</td>\n",
       "      <td>955.00</td>\n",
       "      <td>951.60</td>\n",
       "      <td>958.45</td>\n",
       "      <td>943.85</td>\n",
       "      <td>952.90</td>\n",
       "      <td>952.80</td>\n",
       "      <td>949.48</td>\n",
       "      <td>1457754</td>\n",
       "      <td>1.384110e+09</td>\n",
       "      <td>75429</td>\n",
       "      <td>792251</td>\n",
       "      <td>54.35</td>\n",
       "    </tr>\n",
       "    <tr>\n",
       "      <th>3</th>\n",
       "      <td>INFY</td>\n",
       "      <td>EQ</td>\n",
       "      <td>18-May-2017</td>\n",
       "      <td>952.80</td>\n",
       "      <td>943.00</td>\n",
       "      <td>973.90</td>\n",
       "      <td>942.85</td>\n",
       "      <td>960.25</td>\n",
       "      <td>961.75</td>\n",
       "      <td>962.61</td>\n",
       "      <td>4028924</td>\n",
       "      <td>3.878282e+09</td>\n",
       "      <td>120990</td>\n",
       "      <td>2309450</td>\n",
       "      <td>57.32</td>\n",
       "    </tr>\n",
       "    <tr>\n",
       "      <th>4</th>\n",
       "      <td>INFY</td>\n",
       "      <td>EQ</td>\n",
       "      <td>19-May-2017</td>\n",
       "      <td>961.75</td>\n",
       "      <td>961.50</td>\n",
       "      <td>962.70</td>\n",
       "      <td>947.85</td>\n",
       "      <td>957.40</td>\n",
       "      <td>957.95</td>\n",
       "      <td>954.18</td>\n",
       "      <td>2128698</td>\n",
       "      <td>2.031155e+09</td>\n",
       "      <td>88897</td>\n",
       "      <td>1457747</td>\n",
       "      <td>68.48</td>\n",
       "    </tr>\n",
       "    <tr>\n",
       "      <th>...</th>\n",
       "      <td>...</td>\n",
       "      <td>...</td>\n",
       "      <td>...</td>\n",
       "      <td>...</td>\n",
       "      <td>...</td>\n",
       "      <td>...</td>\n",
       "      <td>...</td>\n",
       "      <td>...</td>\n",
       "      <td>...</td>\n",
       "      <td>...</td>\n",
       "      <td>...</td>\n",
       "      <td>...</td>\n",
       "      <td>...</td>\n",
       "      <td>...</td>\n",
       "      <td>...</td>\n",
       "    </tr>\n",
       "    <tr>\n",
       "      <th>491</th>\n",
       "      <td>INFY</td>\n",
       "      <td>EQ</td>\n",
       "      <td>07-May-2019</td>\n",
       "      <td>718.40</td>\n",
       "      <td>720.40</td>\n",
       "      <td>727.90</td>\n",
       "      <td>718.70</td>\n",
       "      <td>724.40</td>\n",
       "      <td>724.55</td>\n",
       "      <td>724.51</td>\n",
       "      <td>5747536</td>\n",
       "      <td>4.164127e+09</td>\n",
       "      <td>104342</td>\n",
       "      <td>3690425</td>\n",
       "      <td>64.21</td>\n",
       "    </tr>\n",
       "    <tr>\n",
       "      <th>492</th>\n",
       "      <td>INFY</td>\n",
       "      <td>EQ</td>\n",
       "      <td>08-May-2019</td>\n",
       "      <td>724.55</td>\n",
       "      <td>721.00</td>\n",
       "      <td>726.00</td>\n",
       "      <td>716.50</td>\n",
       "      <td>718.95</td>\n",
       "      <td>719.35</td>\n",
       "      <td>721.65</td>\n",
       "      <td>6247642</td>\n",
       "      <td>4.508603e+09</td>\n",
       "      <td>162077</td>\n",
       "      <td>3950857</td>\n",
       "      <td>63.24</td>\n",
       "    </tr>\n",
       "    <tr>\n",
       "      <th>493</th>\n",
       "      <td>INFY</td>\n",
       "      <td>EQ</td>\n",
       "      <td>09-May-2019</td>\n",
       "      <td>719.35</td>\n",
       "      <td>719.15</td>\n",
       "      <td>730.30</td>\n",
       "      <td>715.80</td>\n",
       "      <td>722.00</td>\n",
       "      <td>721.05</td>\n",
       "      <td>724.48</td>\n",
       "      <td>7396525</td>\n",
       "      <td>5.358635e+09</td>\n",
       "      <td>242225</td>\n",
       "      <td>4808832</td>\n",
       "      <td>65.01</td>\n",
       "    </tr>\n",
       "    <tr>\n",
       "      <th>494</th>\n",
       "      <td>INFY</td>\n",
       "      <td>EQ</td>\n",
       "      <td>10-May-2019</td>\n",
       "      <td>721.05</td>\n",
       "      <td>720.80</td>\n",
       "      <td>726.00</td>\n",
       "      <td>715.00</td>\n",
       "      <td>716.50</td>\n",
       "      <td>716.85</td>\n",
       "      <td>717.88</td>\n",
       "      <td>8352335</td>\n",
       "      <td>5.995942e+09</td>\n",
       "      <td>181229</td>\n",
       "      <td>5545377</td>\n",
       "      <td>66.39</td>\n",
       "    </tr>\n",
       "    <tr>\n",
       "      <th>495</th>\n",
       "      <td>INFY</td>\n",
       "      <td>EQ</td>\n",
       "      <td>13-May-2019</td>\n",
       "      <td>716.85</td>\n",
       "      <td>716.55</td>\n",
       "      <td>726.45</td>\n",
       "      <td>712.10</td>\n",
       "      <td>718.00</td>\n",
       "      <td>719.70</td>\n",
       "      <td>720.09</td>\n",
       "      <td>6808993</td>\n",
       "      <td>4.903098e+09</td>\n",
       "      <td>201194</td>\n",
       "      <td>4745909</td>\n",
       "      <td>69.70</td>\n",
       "    </tr>\n",
       "  </tbody>\n",
       "</table>\n",
       "<p>496 rows × 15 columns</p>\n",
       "</div>"
      ],
      "text/plain": [
       "    Symbol Series         Date  Prev Close  Open Price  High Price  Low Price  \\\n",
       "0     INFY     EQ  15-May-2017      964.25      963.50      963.50     949.10   \n",
       "1     INFY     EQ  16-May-2017      951.55      953.10      960.15     946.95   \n",
       "2     INFY     EQ  17-May-2017      955.00      951.60      958.45     943.85   \n",
       "3     INFY     EQ  18-May-2017      952.80      943.00      973.90     942.85   \n",
       "4     INFY     EQ  19-May-2017      961.75      961.50      962.70     947.85   \n",
       "..     ...    ...          ...         ...         ...         ...        ...   \n",
       "491   INFY     EQ  07-May-2019      718.40      720.40      727.90     718.70   \n",
       "492   INFY     EQ  08-May-2019      724.55      721.00      726.00     716.50   \n",
       "493   INFY     EQ  09-May-2019      719.35      719.15      730.30     715.80   \n",
       "494   INFY     EQ  10-May-2019      721.05      720.80      726.00     715.00   \n",
       "495   INFY     EQ  13-May-2019      716.85      716.55      726.45     712.10   \n",
       "\n",
       "     Last Price  Close Price  Average Price  Total Traded Quantity  \\\n",
       "0        953.25       951.55         951.49                3648582   \n",
       "1        956.00       955.00         952.92                3065084   \n",
       "2        952.90       952.80         949.48                1457754   \n",
       "3        960.25       961.75         962.61                4028924   \n",
       "4        957.40       957.95         954.18                2128698   \n",
       "..          ...          ...            ...                    ...   \n",
       "491      724.40       724.55         724.51                5747536   \n",
       "492      718.95       719.35         721.65                6247642   \n",
       "493      722.00       721.05         724.48                7396525   \n",
       "494      716.50       716.85         717.88                8352335   \n",
       "495      718.00       719.70         720.09                6808993   \n",
       "\n",
       "         Turnover  No. of Trades  Deliverable Qty  % Dly Qt to Traded Qty  \n",
       "0    3.471580e+09          75335          3052819                   83.67  \n",
       "1    2.920775e+09          71808          1858063                   60.62  \n",
       "2    1.384110e+09          75429           792251                   54.35  \n",
       "3    3.878282e+09         120990          2309450                   57.32  \n",
       "4    2.031155e+09          88897          1457747                   68.48  \n",
       "..            ...            ...              ...                     ...  \n",
       "491  4.164127e+09         104342          3690425                   64.21  \n",
       "492  4.508603e+09         162077          3950857                   63.24  \n",
       "493  5.358635e+09         242225          4808832                   65.01  \n",
       "494  5.995942e+09         181229          5545377                   66.39  \n",
       "495  4.903098e+09         201194          4745909                   69.70  \n",
       "\n",
       "[496 rows x 15 columns]"
      ]
     },
     "execution_count": 3,
     "metadata": {},
     "output_type": "execute_result"
    }
   ],
   "source": [
    "df"
   ]
  },
  {
   "cell_type": "code",
   "execution_count": 4,
   "metadata": {},
   "outputs": [
    {
     "data": {
      "text/html": [
       "<div>\n",
       "<style scoped>\n",
       "    .dataframe tbody tr th:only-of-type {\n",
       "        vertical-align: middle;\n",
       "    }\n",
       "\n",
       "    .dataframe tbody tr th {\n",
       "        vertical-align: top;\n",
       "    }\n",
       "\n",
       "    .dataframe thead th {\n",
       "        text-align: right;\n",
       "    }\n",
       "</style>\n",
       "<table border=\"1\" class=\"dataframe\">\n",
       "  <thead>\n",
       "    <tr style=\"text-align: right;\">\n",
       "      <th></th>\n",
       "      <th>Symbol</th>\n",
       "      <th>Series</th>\n",
       "      <th>Date</th>\n",
       "      <th>Prev Close</th>\n",
       "      <th>Open Price</th>\n",
       "      <th>High Price</th>\n",
       "      <th>Low Price</th>\n",
       "      <th>Last Price</th>\n",
       "      <th>Close Price</th>\n",
       "      <th>Average Price</th>\n",
       "      <th>Total Traded Quantity</th>\n",
       "      <th>Turnover</th>\n",
       "      <th>No. of Trades</th>\n",
       "      <th>Deliverable Qty</th>\n",
       "      <th>% Dly Qt to Traded Qty</th>\n",
       "    </tr>\n",
       "  </thead>\n",
       "  <tbody>\n",
       "    <tr>\n",
       "      <th>0</th>\n",
       "      <td>INFY</td>\n",
       "      <td>EQ</td>\n",
       "      <td>15-May-2017</td>\n",
       "      <td>964.25</td>\n",
       "      <td>963.5</td>\n",
       "      <td>963.50</td>\n",
       "      <td>949.10</td>\n",
       "      <td>953.25</td>\n",
       "      <td>951.55</td>\n",
       "      <td>951.49</td>\n",
       "      <td>3648582</td>\n",
       "      <td>3.471580e+09</td>\n",
       "      <td>75335</td>\n",
       "      <td>3052819</td>\n",
       "      <td>83.67</td>\n",
       "    </tr>\n",
       "    <tr>\n",
       "      <th>1</th>\n",
       "      <td>INFY</td>\n",
       "      <td>EQ</td>\n",
       "      <td>16-May-2017</td>\n",
       "      <td>951.55</td>\n",
       "      <td>953.1</td>\n",
       "      <td>960.15</td>\n",
       "      <td>946.95</td>\n",
       "      <td>956.00</td>\n",
       "      <td>955.00</td>\n",
       "      <td>952.92</td>\n",
       "      <td>3065084</td>\n",
       "      <td>2.920775e+09</td>\n",
       "      <td>71808</td>\n",
       "      <td>1858063</td>\n",
       "      <td>60.62</td>\n",
       "    </tr>\n",
       "    <tr>\n",
       "      <th>2</th>\n",
       "      <td>INFY</td>\n",
       "      <td>EQ</td>\n",
       "      <td>17-May-2017</td>\n",
       "      <td>955.00</td>\n",
       "      <td>951.6</td>\n",
       "      <td>958.45</td>\n",
       "      <td>943.85</td>\n",
       "      <td>952.90</td>\n",
       "      <td>952.80</td>\n",
       "      <td>949.48</td>\n",
       "      <td>1457754</td>\n",
       "      <td>1.384110e+09</td>\n",
       "      <td>75429</td>\n",
       "      <td>792251</td>\n",
       "      <td>54.35</td>\n",
       "    </tr>\n",
       "    <tr>\n",
       "      <th>3</th>\n",
       "      <td>INFY</td>\n",
       "      <td>EQ</td>\n",
       "      <td>18-May-2017</td>\n",
       "      <td>952.80</td>\n",
       "      <td>943.0</td>\n",
       "      <td>973.90</td>\n",
       "      <td>942.85</td>\n",
       "      <td>960.25</td>\n",
       "      <td>961.75</td>\n",
       "      <td>962.61</td>\n",
       "      <td>4028924</td>\n",
       "      <td>3.878282e+09</td>\n",
       "      <td>120990</td>\n",
       "      <td>2309450</td>\n",
       "      <td>57.32</td>\n",
       "    </tr>\n",
       "    <tr>\n",
       "      <th>4</th>\n",
       "      <td>INFY</td>\n",
       "      <td>EQ</td>\n",
       "      <td>19-May-2017</td>\n",
       "      <td>961.75</td>\n",
       "      <td>961.5</td>\n",
       "      <td>962.70</td>\n",
       "      <td>947.85</td>\n",
       "      <td>957.40</td>\n",
       "      <td>957.95</td>\n",
       "      <td>954.18</td>\n",
       "      <td>2128698</td>\n",
       "      <td>2.031155e+09</td>\n",
       "      <td>88897</td>\n",
       "      <td>1457747</td>\n",
       "      <td>68.48</td>\n",
       "    </tr>\n",
       "  </tbody>\n",
       "</table>\n",
       "</div>"
      ],
      "text/plain": [
       "  Symbol Series         Date  Prev Close  Open Price  High Price  Low Price  \\\n",
       "0   INFY     EQ  15-May-2017      964.25       963.5      963.50     949.10   \n",
       "1   INFY     EQ  16-May-2017      951.55       953.1      960.15     946.95   \n",
       "2   INFY     EQ  17-May-2017      955.00       951.6      958.45     943.85   \n",
       "3   INFY     EQ  18-May-2017      952.80       943.0      973.90     942.85   \n",
       "4   INFY     EQ  19-May-2017      961.75       961.5      962.70     947.85   \n",
       "\n",
       "   Last Price  Close Price  Average Price  Total Traded Quantity  \\\n",
       "0      953.25       951.55         951.49                3648582   \n",
       "1      956.00       955.00         952.92                3065084   \n",
       "2      952.90       952.80         949.48                1457754   \n",
       "3      960.25       961.75         962.61                4028924   \n",
       "4      957.40       957.95         954.18                2128698   \n",
       "\n",
       "       Turnover  No. of Trades  Deliverable Qty  % Dly Qt to Traded Qty  \n",
       "0  3.471580e+09          75335          3052819                   83.67  \n",
       "1  2.920775e+09          71808          1858063                   60.62  \n",
       "2  1.384110e+09          75429           792251                   54.35  \n",
       "3  3.878282e+09         120990          2309450                   57.32  \n",
       "4  2.031155e+09          88897          1457747                   68.48  "
      ]
     },
     "execution_count": 4,
     "metadata": {},
     "output_type": "execute_result"
    }
   ],
   "source": [
    "df.head()"
   ]
  },
  {
   "cell_type": "code",
   "execution_count": 5,
   "metadata": {},
   "outputs": [
    {
     "data": {
      "text/html": [
       "<div>\n",
       "<style scoped>\n",
       "    .dataframe tbody tr th:only-of-type {\n",
       "        vertical-align: middle;\n",
       "    }\n",
       "\n",
       "    .dataframe tbody tr th {\n",
       "        vertical-align: top;\n",
       "    }\n",
       "\n",
       "    .dataframe thead th {\n",
       "        text-align: right;\n",
       "    }\n",
       "</style>\n",
       "<table border=\"1\" class=\"dataframe\">\n",
       "  <thead>\n",
       "    <tr style=\"text-align: right;\">\n",
       "      <th></th>\n",
       "      <th>Prev Close</th>\n",
       "      <th>Open Price</th>\n",
       "      <th>High Price</th>\n",
       "      <th>Low Price</th>\n",
       "      <th>Last Price</th>\n",
       "      <th>Close Price</th>\n",
       "      <th>Average Price</th>\n",
       "      <th>Total Traded Quantity</th>\n",
       "      <th>Turnover</th>\n",
       "      <th>No. of Trades</th>\n",
       "      <th>Deliverable Qty</th>\n",
       "      <th>% Dly Qt to Traded Qty</th>\n",
       "    </tr>\n",
       "  </thead>\n",
       "  <tbody>\n",
       "    <tr>\n",
       "      <th>count</th>\n",
       "      <td>496.000000</td>\n",
       "      <td>496.000000</td>\n",
       "      <td>496.000000</td>\n",
       "      <td>496.000000</td>\n",
       "      <td>496.000000</td>\n",
       "      <td>496.00000</td>\n",
       "      <td>496.000000</td>\n",
       "      <td>4.960000e+02</td>\n",
       "      <td>4.960000e+02</td>\n",
       "      <td>4.960000e+02</td>\n",
       "      <td>4.960000e+02</td>\n",
       "      <td>496.000000</td>\n",
       "    </tr>\n",
       "    <tr>\n",
       "      <th>mean</th>\n",
       "      <td>961.505746</td>\n",
       "      <td>960.166331</td>\n",
       "      <td>970.148589</td>\n",
       "      <td>950.189415</td>\n",
       "      <td>959.942843</td>\n",
       "      <td>960.04254</td>\n",
       "      <td>960.262399</td>\n",
       "      <td>6.037975e+06</td>\n",
       "      <td>5.452230e+09</td>\n",
       "      <td>1.355993e+05</td>\n",
       "      <td>3.594822e+06</td>\n",
       "      <td>61.711593</td>\n",
       "    </tr>\n",
       "    <tr>\n",
       "      <th>std</th>\n",
       "      <td>220.856495</td>\n",
       "      <td>220.105831</td>\n",
       "      <td>223.013281</td>\n",
       "      <td>218.694264</td>\n",
       "      <td>220.978683</td>\n",
       "      <td>221.03952</td>\n",
       "      <td>221.113239</td>\n",
       "      <td>5.448129e+06</td>\n",
       "      <td>4.768762e+09</td>\n",
       "      <td>8.583843e+04</td>\n",
       "      <td>2.840850e+06</td>\n",
       "      <td>10.428229</td>\n",
       "    </tr>\n",
       "    <tr>\n",
       "      <th>min</th>\n",
       "      <td>619.100000</td>\n",
       "      <td>621.000000</td>\n",
       "      <td>628.000000</td>\n",
       "      <td>599.850000</td>\n",
       "      <td>619.500000</td>\n",
       "      <td>619.10000</td>\n",
       "      <td>613.780000</td>\n",
       "      <td>5.457170e+05</td>\n",
       "      <td>5.060941e+08</td>\n",
       "      <td>1.000000e+00</td>\n",
       "      <td>0.000000e+00</td>\n",
       "      <td>0.000000</td>\n",
       "    </tr>\n",
       "    <tr>\n",
       "      <th>25%</th>\n",
       "      <td>734.950000</td>\n",
       "      <td>736.050000</td>\n",
       "      <td>742.475000</td>\n",
       "      <td>729.037500</td>\n",
       "      <td>734.375000</td>\n",
       "      <td>734.78750</td>\n",
       "      <td>735.672500</td>\n",
       "      <td>3.133640e+06</td>\n",
       "      <td>3.343381e+09</td>\n",
       "      <td>9.208100e+04</td>\n",
       "      <td>2.059041e+06</td>\n",
       "      <td>55.110000</td>\n",
       "    </tr>\n",
       "    <tr>\n",
       "      <th>50%</th>\n",
       "      <td>956.750000</td>\n",
       "      <td>955.825000</td>\n",
       "      <td>963.925000</td>\n",
       "      <td>947.675000</td>\n",
       "      <td>955.675000</td>\n",
       "      <td>955.25000</td>\n",
       "      <td>954.550000</td>\n",
       "      <td>4.880990e+06</td>\n",
       "      <td>4.592718e+09</td>\n",
       "      <td>1.195405e+05</td>\n",
       "      <td>3.051691e+06</td>\n",
       "      <td>62.270000</td>\n",
       "    </tr>\n",
       "    <tr>\n",
       "      <th>75%</th>\n",
       "      <td>1150.212500</td>\n",
       "      <td>1145.137500</td>\n",
       "      <td>1161.425000</td>\n",
       "      <td>1135.887500</td>\n",
       "      <td>1147.850000</td>\n",
       "      <td>1150.05000</td>\n",
       "      <td>1148.220000</td>\n",
       "      <td>7.290372e+06</td>\n",
       "      <td>6.015533e+09</td>\n",
       "      <td>1.551135e+05</td>\n",
       "      <td>4.324140e+06</td>\n",
       "      <td>68.792500</td>\n",
       "    </tr>\n",
       "    <tr>\n",
       "      <th>max</th>\n",
       "      <td>1441.100000</td>\n",
       "      <td>1449.000000</td>\n",
       "      <td>1467.900000</td>\n",
       "      <td>1430.000000</td>\n",
       "      <td>1440.000000</td>\n",
       "      <td>1441.10000</td>\n",
       "      <td>1451.300000</td>\n",
       "      <td>8.220248e+07</td>\n",
       "      <td>7.662502e+10</td>\n",
       "      <td>1.192900e+06</td>\n",
       "      <td>4.202849e+07</td>\n",
       "      <td>100.000000</td>\n",
       "    </tr>\n",
       "  </tbody>\n",
       "</table>\n",
       "</div>"
      ],
      "text/plain": [
       "        Prev Close   Open Price   High Price    Low Price   Last Price  \\\n",
       "count   496.000000   496.000000   496.000000   496.000000   496.000000   \n",
       "mean    961.505746   960.166331   970.148589   950.189415   959.942843   \n",
       "std     220.856495   220.105831   223.013281   218.694264   220.978683   \n",
       "min     619.100000   621.000000   628.000000   599.850000   619.500000   \n",
       "25%     734.950000   736.050000   742.475000   729.037500   734.375000   \n",
       "50%     956.750000   955.825000   963.925000   947.675000   955.675000   \n",
       "75%    1150.212500  1145.137500  1161.425000  1135.887500  1147.850000   \n",
       "max    1441.100000  1449.000000  1467.900000  1430.000000  1440.000000   \n",
       "\n",
       "       Close Price  Average Price  Total Traded Quantity      Turnover  \\\n",
       "count    496.00000     496.000000           4.960000e+02  4.960000e+02   \n",
       "mean     960.04254     960.262399           6.037975e+06  5.452230e+09   \n",
       "std      221.03952     221.113239           5.448129e+06  4.768762e+09   \n",
       "min      619.10000     613.780000           5.457170e+05  5.060941e+08   \n",
       "25%      734.78750     735.672500           3.133640e+06  3.343381e+09   \n",
       "50%      955.25000     954.550000           4.880990e+06  4.592718e+09   \n",
       "75%     1150.05000    1148.220000           7.290372e+06  6.015533e+09   \n",
       "max     1441.10000    1451.300000           8.220248e+07  7.662502e+10   \n",
       "\n",
       "       No. of Trades  Deliverable Qty  % Dly Qt to Traded Qty  \n",
       "count   4.960000e+02     4.960000e+02              496.000000  \n",
       "mean    1.355993e+05     3.594822e+06               61.711593  \n",
       "std     8.583843e+04     2.840850e+06               10.428229  \n",
       "min     1.000000e+00     0.000000e+00                0.000000  \n",
       "25%     9.208100e+04     2.059041e+06               55.110000  \n",
       "50%     1.195405e+05     3.051691e+06               62.270000  \n",
       "75%     1.551135e+05     4.324140e+06               68.792500  \n",
       "max     1.192900e+06     4.202849e+07              100.000000  "
      ]
     },
     "execution_count": 5,
     "metadata": {},
     "output_type": "execute_result"
    }
   ],
   "source": [
    "df.describe()"
   ]
  },
  {
   "cell_type": "code",
   "execution_count": 6,
   "metadata": {},
   "outputs": [
    {
     "name": "stdout",
     "output_type": "stream",
     "text": [
      "<class 'pandas.core.frame.DataFrame'>\n",
      "RangeIndex: 496 entries, 0 to 495\n",
      "Data columns (total 15 columns):\n",
      " #   Column                  Non-Null Count  Dtype  \n",
      "---  ------                  --------------  -----  \n",
      " 0   Symbol                  496 non-null    object \n",
      " 1   Series                  496 non-null    object \n",
      " 2   Date                    496 non-null    object \n",
      " 3   Prev Close              496 non-null    float64\n",
      " 4   Open Price              496 non-null    float64\n",
      " 5   High Price              496 non-null    float64\n",
      " 6   Low Price               496 non-null    float64\n",
      " 7   Last Price              496 non-null    float64\n",
      " 8   Close Price             496 non-null    float64\n",
      " 9   Average Price           496 non-null    float64\n",
      " 10  Total Traded Quantity   496 non-null    int64  \n",
      " 11  Turnover                496 non-null    float64\n",
      " 12  No. of Trades           496 non-null    int64  \n",
      " 13  Deliverable Qty         496 non-null    int64  \n",
      " 14  % Dly Qt to Traded Qty  496 non-null    float64\n",
      "dtypes: float64(9), int64(3), object(3)\n",
      "memory usage: 58.2+ KB\n"
     ]
    }
   ],
   "source": [
    "df.info()"
   ]
  },
  {
   "cell_type": "markdown",
   "metadata": {},
   "source": [
    "###### In the above cell, we can observe that there are only three columns having the datatype as object."
   ]
  },
  {
   "cell_type": "code",
   "execution_count": 7,
   "metadata": {},
   "outputs": [
    {
     "data": {
      "text/plain": [
       "Symbol                    0\n",
       "Series                    0\n",
       "Date                      0\n",
       "Prev Close                0\n",
       "Open Price                0\n",
       "High Price                0\n",
       "Low Price                 0\n",
       "Last Price                0\n",
       "Close Price               0\n",
       "Average Price             0\n",
       "Total Traded Quantity     0\n",
       "Turnover                  0\n",
       "No. of Trades             0\n",
       "Deliverable Qty           0\n",
       "% Dly Qt to Traded Qty    0\n",
       "dtype: int64"
      ]
     },
     "execution_count": 7,
     "metadata": {},
     "output_type": "execute_result"
    }
   ],
   "source": [
    "df.isnull().sum()"
   ]
  },
  {
   "cell_type": "markdown",
   "metadata": {},
   "source": [
    "###### No null values are there in the provided dataset"
   ]
  },
  {
   "cell_type": "code",
   "execution_count": 8,
   "metadata": {},
   "outputs": [],
   "source": [
    "df = df[df.Series == 'EQ']"
   ]
  },
  {
   "cell_type": "code",
   "execution_count": 9,
   "metadata": {},
   "outputs": [
    {
     "data": {
      "text/html": [
       "<div>\n",
       "<style scoped>\n",
       "    .dataframe tbody tr th:only-of-type {\n",
       "        vertical-align: middle;\n",
       "    }\n",
       "\n",
       "    .dataframe tbody tr th {\n",
       "        vertical-align: top;\n",
       "    }\n",
       "\n",
       "    .dataframe thead th {\n",
       "        text-align: right;\n",
       "    }\n",
       "</style>\n",
       "<table border=\"1\" class=\"dataframe\">\n",
       "  <thead>\n",
       "    <tr style=\"text-align: right;\">\n",
       "      <th></th>\n",
       "      <th>Symbol</th>\n",
       "      <th>Series</th>\n",
       "      <th>Date</th>\n",
       "      <th>Prev Close</th>\n",
       "      <th>Open Price</th>\n",
       "      <th>High Price</th>\n",
       "      <th>Low Price</th>\n",
       "      <th>Last Price</th>\n",
       "      <th>Close Price</th>\n",
       "      <th>Average Price</th>\n",
       "      <th>Total Traded Quantity</th>\n",
       "      <th>Turnover</th>\n",
       "      <th>No. of Trades</th>\n",
       "      <th>Deliverable Qty</th>\n",
       "      <th>% Dly Qt to Traded Qty</th>\n",
       "    </tr>\n",
       "  </thead>\n",
       "  <tbody>\n",
       "    <tr>\n",
       "      <th>0</th>\n",
       "      <td>INFY</td>\n",
       "      <td>EQ</td>\n",
       "      <td>15-May-2017</td>\n",
       "      <td>964.25</td>\n",
       "      <td>963.50</td>\n",
       "      <td>963.50</td>\n",
       "      <td>949.10</td>\n",
       "      <td>953.25</td>\n",
       "      <td>951.55</td>\n",
       "      <td>951.49</td>\n",
       "      <td>3648582</td>\n",
       "      <td>3.471580e+09</td>\n",
       "      <td>75335</td>\n",
       "      <td>3052819</td>\n",
       "      <td>83.67</td>\n",
       "    </tr>\n",
       "    <tr>\n",
       "      <th>1</th>\n",
       "      <td>INFY</td>\n",
       "      <td>EQ</td>\n",
       "      <td>16-May-2017</td>\n",
       "      <td>951.55</td>\n",
       "      <td>953.10</td>\n",
       "      <td>960.15</td>\n",
       "      <td>946.95</td>\n",
       "      <td>956.00</td>\n",
       "      <td>955.00</td>\n",
       "      <td>952.92</td>\n",
       "      <td>3065084</td>\n",
       "      <td>2.920775e+09</td>\n",
       "      <td>71808</td>\n",
       "      <td>1858063</td>\n",
       "      <td>60.62</td>\n",
       "    </tr>\n",
       "    <tr>\n",
       "      <th>2</th>\n",
       "      <td>INFY</td>\n",
       "      <td>EQ</td>\n",
       "      <td>17-May-2017</td>\n",
       "      <td>955.00</td>\n",
       "      <td>951.60</td>\n",
       "      <td>958.45</td>\n",
       "      <td>943.85</td>\n",
       "      <td>952.90</td>\n",
       "      <td>952.80</td>\n",
       "      <td>949.48</td>\n",
       "      <td>1457754</td>\n",
       "      <td>1.384110e+09</td>\n",
       "      <td>75429</td>\n",
       "      <td>792251</td>\n",
       "      <td>54.35</td>\n",
       "    </tr>\n",
       "    <tr>\n",
       "      <th>3</th>\n",
       "      <td>INFY</td>\n",
       "      <td>EQ</td>\n",
       "      <td>18-May-2017</td>\n",
       "      <td>952.80</td>\n",
       "      <td>943.00</td>\n",
       "      <td>973.90</td>\n",
       "      <td>942.85</td>\n",
       "      <td>960.25</td>\n",
       "      <td>961.75</td>\n",
       "      <td>962.61</td>\n",
       "      <td>4028924</td>\n",
       "      <td>3.878282e+09</td>\n",
       "      <td>120990</td>\n",
       "      <td>2309450</td>\n",
       "      <td>57.32</td>\n",
       "    </tr>\n",
       "    <tr>\n",
       "      <th>4</th>\n",
       "      <td>INFY</td>\n",
       "      <td>EQ</td>\n",
       "      <td>19-May-2017</td>\n",
       "      <td>961.75</td>\n",
       "      <td>961.50</td>\n",
       "      <td>962.70</td>\n",
       "      <td>947.85</td>\n",
       "      <td>957.40</td>\n",
       "      <td>957.95</td>\n",
       "      <td>954.18</td>\n",
       "      <td>2128698</td>\n",
       "      <td>2.031155e+09</td>\n",
       "      <td>88897</td>\n",
       "      <td>1457747</td>\n",
       "      <td>68.48</td>\n",
       "    </tr>\n",
       "    <tr>\n",
       "      <th>...</th>\n",
       "      <td>...</td>\n",
       "      <td>...</td>\n",
       "      <td>...</td>\n",
       "      <td>...</td>\n",
       "      <td>...</td>\n",
       "      <td>...</td>\n",
       "      <td>...</td>\n",
       "      <td>...</td>\n",
       "      <td>...</td>\n",
       "      <td>...</td>\n",
       "      <td>...</td>\n",
       "      <td>...</td>\n",
       "      <td>...</td>\n",
       "      <td>...</td>\n",
       "      <td>...</td>\n",
       "    </tr>\n",
       "    <tr>\n",
       "      <th>491</th>\n",
       "      <td>INFY</td>\n",
       "      <td>EQ</td>\n",
       "      <td>07-May-2019</td>\n",
       "      <td>718.40</td>\n",
       "      <td>720.40</td>\n",
       "      <td>727.90</td>\n",
       "      <td>718.70</td>\n",
       "      <td>724.40</td>\n",
       "      <td>724.55</td>\n",
       "      <td>724.51</td>\n",
       "      <td>5747536</td>\n",
       "      <td>4.164127e+09</td>\n",
       "      <td>104342</td>\n",
       "      <td>3690425</td>\n",
       "      <td>64.21</td>\n",
       "    </tr>\n",
       "    <tr>\n",
       "      <th>492</th>\n",
       "      <td>INFY</td>\n",
       "      <td>EQ</td>\n",
       "      <td>08-May-2019</td>\n",
       "      <td>724.55</td>\n",
       "      <td>721.00</td>\n",
       "      <td>726.00</td>\n",
       "      <td>716.50</td>\n",
       "      <td>718.95</td>\n",
       "      <td>719.35</td>\n",
       "      <td>721.65</td>\n",
       "      <td>6247642</td>\n",
       "      <td>4.508603e+09</td>\n",
       "      <td>162077</td>\n",
       "      <td>3950857</td>\n",
       "      <td>63.24</td>\n",
       "    </tr>\n",
       "    <tr>\n",
       "      <th>493</th>\n",
       "      <td>INFY</td>\n",
       "      <td>EQ</td>\n",
       "      <td>09-May-2019</td>\n",
       "      <td>719.35</td>\n",
       "      <td>719.15</td>\n",
       "      <td>730.30</td>\n",
       "      <td>715.80</td>\n",
       "      <td>722.00</td>\n",
       "      <td>721.05</td>\n",
       "      <td>724.48</td>\n",
       "      <td>7396525</td>\n",
       "      <td>5.358635e+09</td>\n",
       "      <td>242225</td>\n",
       "      <td>4808832</td>\n",
       "      <td>65.01</td>\n",
       "    </tr>\n",
       "    <tr>\n",
       "      <th>494</th>\n",
       "      <td>INFY</td>\n",
       "      <td>EQ</td>\n",
       "      <td>10-May-2019</td>\n",
       "      <td>721.05</td>\n",
       "      <td>720.80</td>\n",
       "      <td>726.00</td>\n",
       "      <td>715.00</td>\n",
       "      <td>716.50</td>\n",
       "      <td>716.85</td>\n",
       "      <td>717.88</td>\n",
       "      <td>8352335</td>\n",
       "      <td>5.995942e+09</td>\n",
       "      <td>181229</td>\n",
       "      <td>5545377</td>\n",
       "      <td>66.39</td>\n",
       "    </tr>\n",
       "    <tr>\n",
       "      <th>495</th>\n",
       "      <td>INFY</td>\n",
       "      <td>EQ</td>\n",
       "      <td>13-May-2019</td>\n",
       "      <td>716.85</td>\n",
       "      <td>716.55</td>\n",
       "      <td>726.45</td>\n",
       "      <td>712.10</td>\n",
       "      <td>718.00</td>\n",
       "      <td>719.70</td>\n",
       "      <td>720.09</td>\n",
       "      <td>6808993</td>\n",
       "      <td>4.903098e+09</td>\n",
       "      <td>201194</td>\n",
       "      <td>4745909</td>\n",
       "      <td>69.70</td>\n",
       "    </tr>\n",
       "  </tbody>\n",
       "</table>\n",
       "<p>494 rows × 15 columns</p>\n",
       "</div>"
      ],
      "text/plain": [
       "    Symbol Series         Date  Prev Close  Open Price  High Price  Low Price  \\\n",
       "0     INFY     EQ  15-May-2017      964.25      963.50      963.50     949.10   \n",
       "1     INFY     EQ  16-May-2017      951.55      953.10      960.15     946.95   \n",
       "2     INFY     EQ  17-May-2017      955.00      951.60      958.45     943.85   \n",
       "3     INFY     EQ  18-May-2017      952.80      943.00      973.90     942.85   \n",
       "4     INFY     EQ  19-May-2017      961.75      961.50      962.70     947.85   \n",
       "..     ...    ...          ...         ...         ...         ...        ...   \n",
       "491   INFY     EQ  07-May-2019      718.40      720.40      727.90     718.70   \n",
       "492   INFY     EQ  08-May-2019      724.55      721.00      726.00     716.50   \n",
       "493   INFY     EQ  09-May-2019      719.35      719.15      730.30     715.80   \n",
       "494   INFY     EQ  10-May-2019      721.05      720.80      726.00     715.00   \n",
       "495   INFY     EQ  13-May-2019      716.85      716.55      726.45     712.10   \n",
       "\n",
       "     Last Price  Close Price  Average Price  Total Traded Quantity  \\\n",
       "0        953.25       951.55         951.49                3648582   \n",
       "1        956.00       955.00         952.92                3065084   \n",
       "2        952.90       952.80         949.48                1457754   \n",
       "3        960.25       961.75         962.61                4028924   \n",
       "4        957.40       957.95         954.18                2128698   \n",
       "..          ...          ...            ...                    ...   \n",
       "491      724.40       724.55         724.51                5747536   \n",
       "492      718.95       719.35         721.65                6247642   \n",
       "493      722.00       721.05         724.48                7396525   \n",
       "494      716.50       716.85         717.88                8352335   \n",
       "495      718.00       719.70         720.09                6808993   \n",
       "\n",
       "         Turnover  No. of Trades  Deliverable Qty  % Dly Qt to Traded Qty  \n",
       "0    3.471580e+09          75335          3052819                   83.67  \n",
       "1    2.920775e+09          71808          1858063                   60.62  \n",
       "2    1.384110e+09          75429           792251                   54.35  \n",
       "3    3.878282e+09         120990          2309450                   57.32  \n",
       "4    2.031155e+09          88897          1457747                   68.48  \n",
       "..            ...            ...              ...                     ...  \n",
       "491  4.164127e+09         104342          3690425                   64.21  \n",
       "492  4.508603e+09         162077          3950857                   63.24  \n",
       "493  5.358635e+09         242225          4808832                   65.01  \n",
       "494  5.995942e+09         181229          5545377                   66.39  \n",
       "495  4.903098e+09         201194          4745909                   69.70  \n",
       "\n",
       "[494 rows x 15 columns]"
      ]
     },
     "execution_count": 9,
     "metadata": {},
     "output_type": "execute_result"
    }
   ],
   "source": [
    "df # Here we have removed the columns where series is not EQ"
   ]
  },
  {
   "cell_type": "markdown",
   "metadata": {},
   "source": [
    "### Each column is analyzed "
   ]
  },
  {
   "cell_type": "code",
   "execution_count": 10,
   "metadata": {},
   "outputs": [
    {
     "data": {
      "text/plain": [
       "count     494.000000\n",
       "mean      961.440789\n",
       "std       220.761549\n",
       "min       619.100000\n",
       "25%       735.025000\n",
       "50%       956.750000\n",
       "75%      1150.150000\n",
       "max      1441.100000\n",
       "Name: Prev Close, dtype: float64"
      ]
     },
     "execution_count": 10,
     "metadata": {},
     "output_type": "execute_result"
    }
   ],
   "source": [
    "df['Prev Close'].describe()"
   ]
  },
  {
   "cell_type": "code",
   "execution_count": 11,
   "metadata": {},
   "outputs": [
    {
     "data": {
      "text/plain": [
       "0    964.25\n",
       "1    951.55\n",
       "2    955.00\n",
       "3    952.80\n",
       "4    961.75\n",
       "Name: Prev Close, dtype: float64"
      ]
     },
     "execution_count": 11,
     "metadata": {},
     "output_type": "execute_result"
    }
   ],
   "source": [
    "df['Prev Close'].head()"
   ]
  },
  {
   "cell_type": "code",
   "execution_count": 12,
   "metadata": {},
   "outputs": [
    {
     "data": {
      "text/plain": [
       "count     494.000000\n",
       "mean      961.070040\n",
       "std       220.091227\n",
       "min       621.000000\n",
       "25%       736.187500\n",
       "50%       957.525000\n",
       "75%      1145.412500\n",
       "max      1449.000000\n",
       "Name: Open Price, dtype: float64"
      ]
     },
     "execution_count": 12,
     "metadata": {},
     "output_type": "execute_result"
    }
   ],
   "source": [
    "df['Open Price'].describe()"
   ]
  },
  {
   "cell_type": "code",
   "execution_count": 13,
   "metadata": {},
   "outputs": [
    {
     "data": {
      "text/plain": [
       "count     494.000000\n",
       "mean      971.092713\n",
       "std       222.968974\n",
       "min       628.000000\n",
       "25%       742.700000\n",
       "50%       964.775000\n",
       "75%      1161.675000\n",
       "max      1467.900000\n",
       "Name: High Price, dtype: float64"
      ]
     },
     "execution_count": 13,
     "metadata": {},
     "output_type": "execute_result"
    }
   ],
   "source": [
    "df['High Price'].describe()"
   ]
  },
  {
   "cell_type": "code",
   "execution_count": 14,
   "metadata": {},
   "outputs": [
    {
     "data": {
      "text/plain": [
       "count     494.000000\n",
       "mean      951.052733\n",
       "std       218.714372\n",
       "min       599.850000\n",
       "25%       729.012500\n",
       "50%       948.000000\n",
       "75%      1135.962500\n",
       "max      1430.000000\n",
       "Name: Low Price, dtype: float64"
      ]
     },
     "execution_count": 14,
     "metadata": {},
     "output_type": "execute_result"
    }
   ],
   "source": [
    "df['Low Price'].describe()"
   ]
  },
  {
   "cell_type": "code",
   "execution_count": 15,
   "metadata": {},
   "outputs": [
    {
     "data": {
      "text/plain": [
       "count     494.000000\n",
       "mean      960.845648\n",
       "std       220.968590\n",
       "min       619.500000\n",
       "25%       734.125000\n",
       "50%       956.025000\n",
       "75%      1147.950000\n",
       "max      1440.000000\n",
       "Name: Last Price, dtype: float64"
      ]
     },
     "execution_count": 15,
     "metadata": {},
     "output_type": "execute_result"
    }
   ],
   "source": [
    "df['Last Price'].describe()"
   ]
  },
  {
   "cell_type": "code",
   "execution_count": 16,
   "metadata": {},
   "outputs": [
    {
     "data": {
      "text/plain": [
       "count     494.000000\n",
       "mean      960.945749\n",
       "std       221.029267\n",
       "min       619.100000\n",
       "25%       734.462500\n",
       "50%       955.975000\n",
       "75%      1150.150000\n",
       "max      1441.100000\n",
       "Name: Close Price, dtype: float64"
      ]
     },
     "execution_count": 16,
     "metadata": {},
     "output_type": "execute_result"
    }
   ],
   "source": [
    "df['Close Price'].describe()"
   ]
  },
  {
   "cell_type": "code",
   "execution_count": 17,
   "metadata": {},
   "outputs": [
    {
     "data": {
      "text/plain": [
       "count     494.000000\n",
       "mean      961.166498\n",
       "std       221.102384\n",
       "min       613.780000\n",
       "25%       735.720000\n",
       "50%       955.060000\n",
       "75%      1148.280000\n",
       "max      1451.300000\n",
       "Name: Average Price, dtype: float64"
      ]
     },
     "execution_count": 17,
     "metadata": {},
     "output_type": "execute_result"
    }
   ],
   "source": [
    "df['Average Price'].describe()"
   ]
  },
  {
   "cell_type": "code",
   "execution_count": 18,
   "metadata": {},
   "outputs": [
    {
     "data": {
      "text/plain": [
       "count    4.940000e+02\n",
       "mean     6.056365e+06\n",
       "std      5.451445e+06\n",
       "min      5.457170e+05\n",
       "25%      3.148044e+06\n",
       "50%      4.905804e+06\n",
       "75%      7.303918e+06\n",
       "max      8.220248e+07\n",
       "Name: Total Traded Quantity, dtype: float64"
      ]
     },
     "execution_count": 18,
     "metadata": {},
     "output_type": "execute_result"
    }
   ],
   "source": [
    "df['Total Traded Quantity'].describe()"
   ]
  },
  {
   "cell_type": "code",
   "execution_count": 19,
   "metadata": {},
   "outputs": [
    {
     "data": {
      "text/plain": [
       "count    4.940000e+02\n",
       "mean     5.469840e+09\n",
       "std      4.770342e+09\n",
       "min      5.060941e+08\n",
       "25%      3.350973e+09\n",
       "50%      4.601808e+09\n",
       "75%      6.042062e+09\n",
       "max      7.662502e+10\n",
       "Name: Turnover, dtype: float64"
      ]
     },
     "execution_count": 19,
     "metadata": {},
     "output_type": "execute_result"
    }
   ],
   "source": [
    "df['Turnover'].describe()"
   ]
  },
  {
   "cell_type": "code",
   "execution_count": 20,
   "metadata": {},
   "outputs": [
    {
     "data": {
      "text/plain": [
       "count    4.940000e+02\n",
       "mean     1.361482e+05\n",
       "std      8.557589e+04\n",
       "min      1.388600e+04\n",
       "25%      9.246300e+04\n",
       "50%      1.197605e+05\n",
       "75%      1.551745e+05\n",
       "max      1.192900e+06\n",
       "Name: No. of Trades, dtype: float64"
      ]
     },
     "execution_count": 20,
     "metadata": {},
     "output_type": "execute_result"
    }
   ],
   "source": [
    "df['No. of Trades'].describe()"
   ]
  },
  {
   "cell_type": "code",
   "execution_count": 21,
   "metadata": {},
   "outputs": [
    {
     "data": {
      "text/plain": [
       "count    4.940000e+02\n",
       "mean     3.605878e+06\n",
       "std      2.840733e+06\n",
       "min      3.077410e+05\n",
       "25%      2.064895e+06\n",
       "50%      3.053880e+06\n",
       "75%      4.332777e+06\n",
       "max      4.202849e+07\n",
       "Name: Deliverable Qty, dtype: float64"
      ]
     },
     "execution_count": 21,
     "metadata": {},
     "output_type": "execute_result"
    }
   ],
   "source": [
    "df['Deliverable Qty'].describe()"
   ]
  },
  {
   "cell_type": "code",
   "execution_count": 22,
   "metadata": {},
   "outputs": [
    {
     "data": {
      "text/plain": [
       "count    494.000000\n",
       "mean      61.759008\n",
       "std        9.924135\n",
       "min       26.380000\n",
       "25%       55.142500\n",
       "50%       62.270000\n",
       "75%       68.767500\n",
       "max       88.700000\n",
       "Name: % Dly Qt to Traded Qty, dtype: float64"
      ]
     },
     "execution_count": 22,
     "metadata": {},
     "output_type": "execute_result"
    }
   ],
   "source": [
    "df['% Dly Qt to Traded Qty'].describe()"
   ]
  },
  {
   "cell_type": "markdown",
   "metadata": {},
   "source": [
    "## Problem Statement 1.2 \n",
    "### i.e to find maximum, minimum and mean price for last 90 days."
   ]
  },
  {
   "cell_type": "code",
   "execution_count": 23,
   "metadata": {},
   "outputs": [
    {
     "data": {
      "text/plain": [
       "767.25"
      ]
     },
     "execution_count": 23,
     "metadata": {},
     "output_type": "execute_result"
    }
   ],
   "source": [
    "df['Close Price'].tail(90).max() # Here tail(90) returns the last 90 values we want."
   ]
  },
  {
   "cell_type": "code",
   "execution_count": 24,
   "metadata": {},
   "outputs": [
    {
     "data": {
      "text/plain": [
       "658.95"
      ]
     },
     "execution_count": 24,
     "metadata": {},
     "output_type": "execute_result"
    }
   ],
   "source": [
    "df['Close Price'].tail(90).min()"
   ]
  },
  {
   "cell_type": "code",
   "execution_count": 25,
   "metadata": {},
   "outputs": [
    {
     "data": {
      "text/plain": [
       "728.6027777777778"
      ]
     },
     "execution_count": 25,
     "metadata": {},
     "output_type": "execute_result"
    }
   ],
   "source": [
    "df['Close Price'].tail(90).mean()"
   ]
  },
  {
   "cell_type": "markdown",
   "metadata": {},
   "source": [
    " ## OR"
   ]
  },
  {
   "cell_type": "code",
   "execution_count": 26,
   "metadata": {},
   "outputs": [
    {
     "data": {
      "text/plain": [
       "count     90.000000\n",
       "mean     728.602778\n",
       "std       25.490794\n",
       "min      658.950000\n",
       "25%      720.037500\n",
       "50%      732.250000\n",
       "75%      744.712500\n",
       "max      767.250000\n",
       "Name: Close Price, dtype: float64"
      ]
     },
     "execution_count": 26,
     "metadata": {},
     "output_type": "execute_result"
    }
   ],
   "source": [
    "df['Close Price'].tail(90).describe()"
   ]
  },
  {
   "cell_type": "markdown",
   "metadata": {},
   "source": [
    "## Problem Statement 1.3\n",
    "**Analyse the data types for each column of the dataframe. Pandas knows how to deal with dates in an intelligent manner. But to make use of Pandas functionality for dates, you need to ensure that the column is of type 'datetime64(ns)'. Change the date column from 'object' type to 'datetime64(ns)' for future convenience. See what happens if you subtract the minimum value of the date column from the maximum value.**"
   ]
  },
  {
   "cell_type": "code",
   "execution_count": 27,
   "metadata": {},
   "outputs": [
    {
     "name": "stderr",
     "output_type": "stream",
     "text": [
      "C:\\Users\\Rajat\\Anaconda\\lib\\site-packages\\ipykernel_launcher.py:1: SettingWithCopyWarning: \n",
      "A value is trying to be set on a copy of a slice from a DataFrame.\n",
      "Try using .loc[row_indexer,col_indexer] = value instead\n",
      "\n",
      "See the caveats in the documentation: https://pandas.pydata.org/pandas-docs/stable/user_guide/indexing.html#returning-a-view-versus-a-copy\n",
      "  \"\"\"Entry point for launching an IPython kernel.\n"
     ]
    }
   ],
   "source": [
    "df['Date'] = pd.to_datetime(df['Date'])"
   ]
  },
  {
   "cell_type": "code",
   "execution_count": 28,
   "metadata": {},
   "outputs": [
    {
     "data": {
      "text/plain": [
       "dtype('<M8[ns]')"
      ]
     },
     "execution_count": 28,
     "metadata": {},
     "output_type": "execute_result"
    }
   ],
   "source": [
    "df['Date'].dtypes # Here <M8[ns] corresponds to datetime64(ns)"
   ]
  },
  {
   "cell_type": "code",
   "execution_count": 29,
   "metadata": {},
   "outputs": [
    {
     "data": {
      "text/plain": [
       "Timedelta('728 days 00:00:00')"
      ]
     },
     "execution_count": 29,
     "metadata": {},
     "output_type": "execute_result"
    }
   ],
   "source": [
    "df['Date'].max() - df['Date'].min()"
   ]
  },
  {
   "cell_type": "markdown",
   "metadata": {},
   "source": [
    "## Problem Statement 1.4\n",
    "**In a separate array , calculate the monthwise VWAP (Volume Weighted Average Price ) of the stock. ( VWAP = sum(price*volume)/sum(volume) ) To know more about VWAP , visit - VWAP definition {Hint : Create a new dataframe column ‘Month’. The values for this column can be derived from the ‘Date” column by using appropriate pandas functions. Similarly, create a column ‘Year’ and initialize it. Then use the 'groupby()' function by month and year. Finally, calculate the vwap value for each month (i.e. for each group created).**"
   ]
  },
  {
   "cell_type": "code",
   "execution_count": 30,
   "metadata": {},
   "outputs": [
    {
     "name": "stderr",
     "output_type": "stream",
     "text": [
      "C:\\Users\\Rajat\\Anaconda\\lib\\site-packages\\ipykernel_launcher.py:2: SettingWithCopyWarning: \n",
      "A value is trying to be set on a copy of a slice from a DataFrame.\n",
      "Try using .loc[row_indexer,col_indexer] = value instead\n",
      "\n",
      "See the caveats in the documentation: https://pandas.pydata.org/pandas-docs/stable/user_guide/indexing.html#returning-a-view-versus-a-copy\n",
      "  \n",
      "C:\\Users\\Rajat\\Anaconda\\lib\\site-packages\\ipykernel_launcher.py:3: SettingWithCopyWarning: \n",
      "A value is trying to be set on a copy of a slice from a DataFrame.\n",
      "Try using .loc[row_indexer,col_indexer] = value instead\n",
      "\n",
      "See the caveats in the documentation: https://pandas.pydata.org/pandas-docs/stable/user_guide/indexing.html#returning-a-view-versus-a-copy\n",
      "  This is separate from the ipykernel package so we can avoid doing imports until\n"
     ]
    }
   ],
   "source": [
    "# efficient way to extract yea and monthr from string format date\n",
    "df['Month'] = pd.DatetimeIndex(df['Date']).month\n",
    "df['Year'] = pd.DatetimeIndex(df['Date']).year"
   ]
  },
  {
   "cell_type": "code",
   "execution_count": 31,
   "metadata": {},
   "outputs": [
    {
     "name": "stderr",
     "output_type": "stream",
     "text": [
      "C:\\Users\\Rajat\\Anaconda\\lib\\site-packages\\ipykernel_launcher.py:2: SettingWithCopyWarning: \n",
      "A value is trying to be set on a copy of a slice from a DataFrame.\n",
      "Try using .loc[row_indexer,col_indexer] = value instead\n",
      "\n",
      "See the caveats in the documentation: https://pandas.pydata.org/pandas-docs/stable/user_guide/indexing.html#returning-a-view-versus-a-copy\n",
      "  \n"
     ]
    }
   ],
   "source": [
    "# We will calculate VWAP i.e [VWAP = sum(price*volume)/sum(volume)]\n",
    "df['VWAP'] = (df['Close Price'] * df['Total Traded Quantity']).sum() / (df['Total Traded Quantity']).sum()"
   ]
  },
  {
   "cell_type": "code",
   "execution_count": 32,
   "metadata": {},
   "outputs": [
    {
     "data": {
      "text/html": [
       "<div>\n",
       "<style scoped>\n",
       "    .dataframe tbody tr th:only-of-type {\n",
       "        vertical-align: middle;\n",
       "    }\n",
       "\n",
       "    .dataframe tbody tr th {\n",
       "        vertical-align: top;\n",
       "    }\n",
       "\n",
       "    .dataframe thead th {\n",
       "        text-align: right;\n",
       "    }\n",
       "</style>\n",
       "<table border=\"1\" class=\"dataframe\">\n",
       "  <thead>\n",
       "    <tr style=\"text-align: right;\">\n",
       "      <th></th>\n",
       "      <th></th>\n",
       "      <th>VWAP</th>\n",
       "    </tr>\n",
       "    <tr>\n",
       "      <th>Month</th>\n",
       "      <th>Year</th>\n",
       "      <th></th>\n",
       "    </tr>\n",
       "  </thead>\n",
       "  <tbody>\n",
       "    <tr>\n",
       "      <th rowspan=\"2\" valign=\"top\">1</th>\n",
       "      <th>2018</th>\n",
       "      <td>902.652009</td>\n",
       "    </tr>\n",
       "    <tr>\n",
       "      <th>2019</th>\n",
       "      <td>902.652009</td>\n",
       "    </tr>\n",
       "    <tr>\n",
       "      <th rowspan=\"2\" valign=\"top\">2</th>\n",
       "      <th>2018</th>\n",
       "      <td>902.652009</td>\n",
       "    </tr>\n",
       "    <tr>\n",
       "      <th>2019</th>\n",
       "      <td>902.652009</td>\n",
       "    </tr>\n",
       "    <tr>\n",
       "      <th rowspan=\"2\" valign=\"top\">3</th>\n",
       "      <th>2018</th>\n",
       "      <td>902.652009</td>\n",
       "    </tr>\n",
       "    <tr>\n",
       "      <th>2019</th>\n",
       "      <td>902.652009</td>\n",
       "    </tr>\n",
       "    <tr>\n",
       "      <th rowspan=\"2\" valign=\"top\">4</th>\n",
       "      <th>2018</th>\n",
       "      <td>902.652009</td>\n",
       "    </tr>\n",
       "    <tr>\n",
       "      <th>2019</th>\n",
       "      <td>902.652009</td>\n",
       "    </tr>\n",
       "    <tr>\n",
       "      <th rowspan=\"3\" valign=\"top\">5</th>\n",
       "      <th>2017</th>\n",
       "      <td>902.652009</td>\n",
       "    </tr>\n",
       "    <tr>\n",
       "      <th>2018</th>\n",
       "      <td>902.652009</td>\n",
       "    </tr>\n",
       "    <tr>\n",
       "      <th>2019</th>\n",
       "      <td>902.652009</td>\n",
       "    </tr>\n",
       "    <tr>\n",
       "      <th rowspan=\"2\" valign=\"top\">6</th>\n",
       "      <th>2017</th>\n",
       "      <td>902.652009</td>\n",
       "    </tr>\n",
       "    <tr>\n",
       "      <th>2018</th>\n",
       "      <td>902.652009</td>\n",
       "    </tr>\n",
       "    <tr>\n",
       "      <th rowspan=\"2\" valign=\"top\">7</th>\n",
       "      <th>2017</th>\n",
       "      <td>902.652009</td>\n",
       "    </tr>\n",
       "    <tr>\n",
       "      <th>2018</th>\n",
       "      <td>902.652009</td>\n",
       "    </tr>\n",
       "    <tr>\n",
       "      <th rowspan=\"2\" valign=\"top\">8</th>\n",
       "      <th>2017</th>\n",
       "      <td>902.652009</td>\n",
       "    </tr>\n",
       "    <tr>\n",
       "      <th>2018</th>\n",
       "      <td>902.652009</td>\n",
       "    </tr>\n",
       "    <tr>\n",
       "      <th rowspan=\"2\" valign=\"top\">9</th>\n",
       "      <th>2017</th>\n",
       "      <td>902.652009</td>\n",
       "    </tr>\n",
       "    <tr>\n",
       "      <th>2018</th>\n",
       "      <td>902.652009</td>\n",
       "    </tr>\n",
       "    <tr>\n",
       "      <th rowspan=\"2\" valign=\"top\">10</th>\n",
       "      <th>2017</th>\n",
       "      <td>902.652009</td>\n",
       "    </tr>\n",
       "    <tr>\n",
       "      <th>2018</th>\n",
       "      <td>902.652009</td>\n",
       "    </tr>\n",
       "    <tr>\n",
       "      <th rowspan=\"2\" valign=\"top\">11</th>\n",
       "      <th>2017</th>\n",
       "      <td>902.652009</td>\n",
       "    </tr>\n",
       "    <tr>\n",
       "      <th>2018</th>\n",
       "      <td>902.652009</td>\n",
       "    </tr>\n",
       "    <tr>\n",
       "      <th rowspan=\"2\" valign=\"top\">12</th>\n",
       "      <th>2017</th>\n",
       "      <td>902.652009</td>\n",
       "    </tr>\n",
       "    <tr>\n",
       "      <th>2018</th>\n",
       "      <td>902.652009</td>\n",
       "    </tr>\n",
       "  </tbody>\n",
       "</table>\n",
       "</div>"
      ],
      "text/plain": [
       "                  VWAP\n",
       "Month Year            \n",
       "1     2018  902.652009\n",
       "      2019  902.652009\n",
       "2     2018  902.652009\n",
       "      2019  902.652009\n",
       "3     2018  902.652009\n",
       "      2019  902.652009\n",
       "4     2018  902.652009\n",
       "      2019  902.652009\n",
       "5     2017  902.652009\n",
       "      2018  902.652009\n",
       "      2019  902.652009\n",
       "6     2017  902.652009\n",
       "      2018  902.652009\n",
       "7     2017  902.652009\n",
       "      2018  902.652009\n",
       "8     2017  902.652009\n",
       "      2018  902.652009\n",
       "9     2017  902.652009\n",
       "      2018  902.652009\n",
       "10    2017  902.652009\n",
       "      2018  902.652009\n",
       "11    2017  902.652009\n",
       "      2018  902.652009\n",
       "12    2017  902.652009\n",
       "      2018  902.652009"
      ]
     },
     "execution_count": 32,
     "metadata": {},
     "output_type": "execute_result"
    }
   ],
   "source": [
    "# Here we will create a variable and then use group by method on it consisting of month and year.\n",
    "df_VWAP = df[['Month', 'Year', 'VWAP']]\n",
    "Group = df_VWAP.groupby(['Month', 'Year'])\n",
    "Group.first()"
   ]
  },
  {
   "cell_type": "markdown",
   "metadata": {},
   "source": [
    "## Problem statement 1.5\n",
    "**Write a function to calculate the average price over the last N days of the stock price data where N is a user defined parameter. Write a second function to calculate the profit/loss percentage over the last N days. Calculate the average price AND the profit/loss percentages over the course of last - 1 week, 2 weeks, 1 month, 3 months, 6 months and 1 year. {Note : Profit/Loss percentage between N days is the percentage change between the closing prices of the 2 days }**"
   ]
  },
  {
   "cell_type": "code",
   "execution_count": 53,
   "metadata": {},
   "outputs": [
    {
     "name": "stdout",
     "output_type": "stream",
     "text": [
      "Below are the average prices for last days: \n",
      "Last 1 week: 721.7057142857144\n",
      "Last 2 weeks: 727.5971428571428\n",
      "Last 1 month: 737.3817857142858\n",
      "Last 3 months: 732.8463095238097\n",
      "Last 6 months: 712.3100595238095\n",
      "Last 1 year: 964.2380952380954\n"
     ]
    }
   ],
   "source": [
    "# We have made a function for calculating average price where N is no. of days\n",
    "def average_price(N):\n",
    "    return (df['Average Price'].tail(N).mean()) # Here mean calculates the average price and tail(N) explores about last values\n",
    "print(\"Below are the average prices for last days: \")\n",
    "print(\"Last 1 week:\",average_price(7))\n",
    "print(\"Last 2 weeks:\",average_price(14))\n",
    "print(\"Last 1 month:\",average_price(28))\n",
    "print(\"Last 3 months:\",average_price(84))\n",
    "print(\"Last 6 months:\",average_price(168))\n",
    "print(\"Last 1 year:\",average_price(336))"
   ]
  },
  {
   "cell_type": "code",
   "execution_count": 48,
   "metadata": {},
   "outputs": [
    {
     "data": {
      "text/plain": [
       "336"
      ]
     },
     "execution_count": 48,
     "metadata": {},
     "output_type": "execute_result"
    }
   ],
   "source": [
    "def profit_loss(N):\n",
    "    "
   ]
  },
  {
   "cell_type": "code",
   "execution_count": null,
   "metadata": {},
   "outputs": [],
   "source": []
  },
  {
   "cell_type": "code",
   "execution_count": null,
   "metadata": {},
   "outputs": [],
   "source": []
  }
 ],
 "metadata": {
  "kernelspec": {
   "display_name": "Python 3",
   "language": "python",
   "name": "python3"
  },
  "language_info": {
   "codemirror_mode": {
    "name": "ipython",
    "version": 3
   },
   "file_extension": ".py",
   "mimetype": "text/x-python",
   "name": "python",
   "nbconvert_exporter": "python",
   "pygments_lexer": "ipython3",
   "version": "3.7.6"
  }
 },
 "nbformat": 4,
 "nbformat_minor": 2
}
